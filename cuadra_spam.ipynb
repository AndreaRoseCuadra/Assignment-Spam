{
 "cells": [
  {
   "cell_type": "code",
   "execution_count": 1,
   "id": "cbcefc48",
   "metadata": {},
   "outputs": [],
   "source": [
    "#Import libraries\n",
    "import numpy as np\n",
    "import pandas as pd\n",
    "import matplotlib.pyplot as plt\n",
    "import tensorflow as tf"
   ]
  },
  {
   "cell_type": "code",
   "execution_count": 2,
   "id": "08aff1da",
   "metadata": {},
   "outputs": [],
   "source": [
    "#Insert data using pandas\n",
    "dt = pd.read_csv('spam.csv', encoding='latin-1')"
   ]
  },
  {
   "cell_type": "code",
   "execution_count": 3,
   "id": "c16deb5a",
   "metadata": {},
   "outputs": [],
   "source": [
    "#Import other necessary libraries from tensorflow and scikit\n",
    "from sklearn.model_selection import train_test_split\n",
    "from sklearn.metrics import accuracy_score\n",
    "from tensorflow.keras.models import Sequential\n",
    "from tensorflow.keras.layers import Dense\n",
    "from keras.preprocessing.text import Tokenizer \n",
    "from tensorflow.keras.preprocessing.sequence import pad_sequences"
   ]
  },
  {
   "cell_type": "code",
   "execution_count": 4,
   "id": "6a01519b",
   "metadata": {},
   "outputs": [],
   "source": [
    "#Using pandas to ivespecific labels to columns and rows\n",
    "dt = dt.drop([\"Unnamed: 2\", \"Unnamed: 3\", \"Unnamed: 4\"], axis=1)\n",
    "dt = dt.rename(columns={\"v1\":'label', \"v2\":'text'})"
   ]
  },
  {
   "cell_type": "code",
   "execution_count": 5,
   "id": "cd2d53b8",
   "metadata": {},
   "outputs": [],
   "source": [
    "#Defining the parameters\n",
    "vocab_size = 2000\n",
    "emb_dim = 16\n",
    "epochs = 25\n",
    "max_len = 100\n",
    "trunc_type = 'post'\n",
    "padd_type = 'post'\n",
    "oov_tok = \"<OOV>\"\n",
    "train_size = 1000"
   ]
  },
  {
   "cell_type": "code",
   "execution_count": 6,
   "id": "61f3a346",
   "metadata": {},
   "outputs": [
    {
     "name": "stdout",
     "output_type": "stream",
     "text": [
      "  label                                               text\n",
      "0   ham  Go until jurong point, crazy.. Available only ...\n",
      "1   ham                      Ok lar... Joking wif u oni...\n",
      "2  spam  Free entry in 2 a wkly comp to win FA Cup fina...\n",
      "3   ham  U dun say so early hor... U c already then say...\n",
      "4   ham  Nah I don't think he goes to usf, he lives aro...\n"
     ]
    }
   ],
   "source": [
    "print(dt.head())"
   ]
  },
  {
   "cell_type": "code",
   "execution_count": 7,
   "id": "c5a961ae",
   "metadata": {},
   "outputs": [
    {
     "name": "stdout",
     "output_type": "stream",
     "text": [
      "      label   text\n",
      "0     False  False\n",
      "1     False  False\n",
      "2     False  False\n",
      "3     False  False\n",
      "4     False  False\n",
      "...     ...    ...\n",
      "5567  False  False\n",
      "5568  False  False\n",
      "5569  False  False\n",
      "5570  False  False\n",
      "5571  False  False\n",
      "\n",
      "[5572 rows x 2 columns]\n"
     ]
    }
   ],
   "source": [
    "print(dt.isnull())"
   ]
  },
  {
   "cell_type": "code",
   "execution_count": 8,
   "id": "0be45871",
   "metadata": {},
   "outputs": [],
   "source": [
    "tg = dt[\"label\"]\n",
    "tx = dt[\"text\"]"
   ]
  },
  {
   "cell_type": "code",
   "execution_count": 9,
   "id": "7fdec530",
   "metadata": {},
   "outputs": [
    {
     "data": {
      "text/plain": [
       "array(['ham', 'spam'], dtype=object)"
      ]
     },
     "execution_count": 9,
     "metadata": {},
     "output_type": "execute_result"
    }
   ],
   "source": [
    "dt['label'].unique()"
   ]
  },
  {
   "cell_type": "code",
   "execution_count": 10,
   "id": "557e6180",
   "metadata": {},
   "outputs": [],
   "source": [
    "label = {\n",
    "    'spam': 1,\n",
    "    'ham': 0\n",
    "}"
   ]
  },
  {
   "cell_type": "code",
   "execution_count": 11,
   "id": "6e89fc00",
   "metadata": {},
   "outputs": [],
   "source": [
    "dt['label'].replace(label, inplace=True)"
   ]
  },
  {
   "cell_type": "code",
   "execution_count": 12,
   "id": "0dd909ba",
   "metadata": {},
   "outputs": [],
   "source": [
    "X = dt.iloc[:, 1].values\n",
    "x = X.reshape(-1, 1)"
   ]
  },
  {
   "cell_type": "code",
   "execution_count": 13,
   "id": "a9d85ab8",
   "metadata": {},
   "outputs": [],
   "source": [
    "Y = dt.iloc[:, 0].values\n",
    "y = Y.reshape(-1, 1)"
   ]
  },
  {
   "cell_type": "code",
   "execution_count": 14,
   "id": "a9755cc8",
   "metadata": {},
   "outputs": [],
   "source": [
    "X = X.tolist()\n",
    "y = y.tolist()"
   ]
  },
  {
   "cell_type": "code",
   "execution_count": 15,
   "id": "00eff4b9",
   "metadata": {},
   "outputs": [],
   "source": [
    "train_sen = X[train_size:]\n",
    "train_lab = y[train_size:]"
   ]
  },
  {
   "cell_type": "code",
   "execution_count": 16,
   "id": "9f733536",
   "metadata": {},
   "outputs": [],
   "source": [
    "test_sen = X[0: train_size]\n",
    "test_lab = y[0:train_size]"
   ]
  },
  {
   "cell_type": "code",
   "execution_count": 17,
   "id": "f0f42458",
   "metadata": {},
   "outputs": [],
   "source": [
    "#Using tokinizer\n",
    "tokenizer = Tokenizer(num_words = vocab_size)\n",
    "tokenizer.fit_on_texts(train_sen)"
   ]
  },
  {
   "cell_type": "code",
   "execution_count": 18,
   "id": "615cbecb",
   "metadata": {},
   "outputs": [],
   "source": [
    "train_seq = tokenizer.texts_to_sequences(train_sen)\n",
    "train_pad = pad_sequences(train_seq, maxlen = max_len, padding = padd_type, truncating = trunc_type)"
   ]
  },
  {
   "cell_type": "code",
   "execution_count": 19,
   "id": "3cb96b61",
   "metadata": {},
   "outputs": [],
   "source": [
    "test_seq = tokenizer.texts_to_sequences(test_sen)\n",
    "test_pad = pad_sequences(test_seq,maxlen=max_len, padding = padd_type, truncating = trunc_type)"
   ]
  },
  {
   "cell_type": "code",
   "execution_count": 20,
   "id": "6036dd71",
   "metadata": {},
   "outputs": [],
   "source": [
    "model = tf.keras.Sequential()\n",
    "model.add(tf.keras.layers.Embedding(vocab_size, emb_dim, input_length=max_len))\n",
    "model.add(tf.keras.layers.Bidirectional(tf.keras.layers.LSTM(64, return_sequences=True)))\n",
    "model.add(tf.keras.layers.Bidirectional(tf.keras.layers.LSTM(64)))\n",
    "model.add(tf.keras.layers.Flatten())\n",
    "model.add(tf.keras.layers.Dense(24, activation='relu'))\n",
    "model.add(tf.keras.layers.Dense(1, activation='sigmoid'))"
   ]
  },
  {
   "cell_type": "code",
   "execution_count": 21,
   "id": "e4c31c15",
   "metadata": {},
   "outputs": [],
   "source": [
    "Training_Sequences_padded = np.asarray(train_pad)\n",
    "Testing_Sequences_padded = np.asarray(test_pad)\n",
    "Training_Labels = np.asarray(train_lab)\n",
    "Testing_Lables = np.asarray(test_lab)"
   ]
  },
  {
   "cell_type": "code",
   "execution_count": 22,
   "id": "e8824552",
   "metadata": {},
   "outputs": [
    {
     "name": "stdout",
     "output_type": "stream",
     "text": [
      "143/143 [==============================] - 188s 1s/step - loss: 0.2135 - accuracy: 0.9274 - val_loss: 0.0722 - val_accuracy: 0.9830\n"
     ]
    }
   ],
   "source": [
    "model.compile(optimizer='adam', loss='binary_crossentropy', metrics=['accuracy'])\n",
    "history = model.fit(Training_Sequences_padded, Training_Labels, validation_data=(Testing_Sequences_padded, Testing_Lables))"
   ]
  },
  {
   "cell_type": "code",
   "execution_count": 23,
   "id": "8126d513",
   "metadata": {},
   "outputs": [
    {
     "data": {
      "text/plain": [
       "<matplotlib.legend.Legend at 0x24194a07c40>"
      ]
     },
     "execution_count": 23,
     "metadata": {},
     "output_type": "execute_result"
    },
    {
     "data": {
      "image/png": "[encoded data removed]",
      "text/plain": [
       "<Figure size 432x288 with 1 Axes>"
      ]
     },
     "metadata": {
      "needs_background": "light"
     },
     "output_type": "display_data"
    }
   ],
   "source": [
    "plt.plot(history.history['loss'])\n",
    "plt.plot(history.history['val_loss'])\n",
    "plt.title('model loss')\n",
    "plt.ylabel('loss')\n",
    "plt.xlabel('epoch')\n",
    "plt.legend(['train', 'val'], loc='upper left')"
   ]
  },
  {
   "cell_type": "code",
   "execution_count": 24,
   "id": "db0c9f3e",
   "metadata": {},
   "outputs": [
    {
     "data": {
      "text/html": [
       "<div>\n",
       "<style scoped>\n",
       "    .dataframe tbody tr th:only-of-type {\n",
       "        vertical-align: middle;\n",
       "    }\n",
       "\n",
       "    .dataframe tbody tr th {\n",
       "        vertical-align: top;\n",
       "    }\n",
       "\n",
       "    .dataframe thead th {\n",
       "        text-align: right;\n",
       "    }\n",
       "</style>\n",
       "<table border=\"1\" class=\"dataframe\">\n",
       "  <thead>\n",
       "    <tr style=\"text-align: right;\">\n",
       "      <th></th>\n",
       "      <th>labels</th>\n",
       "      <th>texts</th>\n",
       "    </tr>\n",
       "  </thead>\n",
       "  <tbody>\n",
       "    <tr>\n",
       "      <th>0</th>\n",
       "      <td>1</td>\n",
       "      <td>Feel Yourself That You Are Always Happy.. Slow...</td>\n",
       "    </tr>\n",
       "    <tr>\n",
       "      <th>1</th>\n",
       "      <td>2</td>\n",
       "      <td>staff.science.nus.edu.sg/~phyhcmk/teaching/pc1323</td>\n",
       "    </tr>\n",
       "    <tr>\n",
       "      <th>2</th>\n",
       "      <td>3</td>\n",
       "      <td>Send me yetty's number pls.</td>\n",
       "    </tr>\n",
       "    <tr>\n",
       "      <th>3</th>\n",
       "      <td>4</td>\n",
       "      <td>Hey so this sat are we going for the intro pil...</td>\n",
       "    </tr>\n",
       "    <tr>\n",
       "      <th>4</th>\n",
       "      <td>5</td>\n",
       "      <td>I got it before the new year cos yetunde said ...</td>\n",
       "    </tr>\n",
       "  </tbody>\n",
       "</table>\n",
       "</div>"
      ],
      "text/plain": [
       "   labels                                              texts\n",
       "0       1  Feel Yourself That You Are Always Happy.. Slow...\n",
       "1       2  staff.science.nus.edu.sg/~phyhcmk/teaching/pc1323\n",
       "2       3                        Send me yetty's number pls.\n",
       "3       4  Hey so this sat are we going for the intro pil...\n",
       "4       5  I got it before the new year cos yetunde said ..."
      ]
     },
     "execution_count": 24,
     "metadata": {},
     "output_type": "execute_result"
    }
   ],
   "source": [
    "dt = pd.read_csv('output_spam.csv',encoding='latin-1')\n",
    "dt = dt.rename(columns={\"ï»¿\":'labels', \"text\":'texts'})\n",
    "dt.head()"
   ]
  },
  {
   "cell_type": "code",
   "execution_count": 25,
   "id": "68884f13",
   "metadata": {},
   "outputs": [
    {
     "name": "stdout",
     "output_type": "stream",
     "text": [
      "0     Feel Yourself That You Are Always Happy.. Slow...\n",
      "1     staff.science.nus.edu.sg/~phyhcmk/teaching/pc1323\n",
      "2                           Send me yetty's number pls.\n",
      "3     Hey so this sat are we going for the intro pil...\n",
      "4     I got it before the new year cos yetunde said ...\n",
      "5     Hey we can go jazz power yoga hip hop kb and y...\n",
      "6     Hey mate. Spoke to the mag people. Weâ°ÃÃ·re...\n",
      "7                                Morning only i can ok.\n",
      "8                                  Wat time Ã_ finish?\n",
      "9                 Shant disturb u anymore... Jia you...\n",
      "10    4mths half price Orange line rental & latest c...\n",
      "11    Your opinion about me? 1. Over 2. Jada 3. Kusr...\n",
      "12    MOON has come to color your dreams, STARS to m...\n",
      "13    You are a winner U have been specially selecte...\n",
      "14    Unless it's a situation where YOU GO GURL woul...\n",
      "15    Awww dat is sweet! We can think of something t...\n",
      "16                              Bring tat cd don forget\n",
      "17    Single line with a big meaning::::: \\Miss anyt...\n",
      "18       Jay's getting really impatient and belligerent\n",
      "19    Lol they were mad at first but then they woke ...\n",
      "Name: texts, dtype: object\n",
      "1/1 [==============================] - 11s 11s/step\n"
     ]
    }
   ],
   "source": [
    "mes = dt['texts'].astype(str)\n",
    "print(mes)\n",
    "pad_type='post'\n",
    "samp_seq = tokenizer.texts_to_sequences(mes)\n",
    "fakes_padded = pad_sequences(samp_seq, padding =pad_type, maxlen = max_len)           \n",
    "\n",
    "classes = model.predict(fakes_padded)"
   ]
  },
  {
   "cell_type": "code",
   "execution_count": 26,
   "id": "f1acd858",
   "metadata": {},
   "outputs": [
    {
     "name": "stdout",
     "output_type": "stream",
     "text": [
      "Feel Yourself That You Are Always Happy.. Slowly It Becomes Your Habit &amp; Finally It Becomes Part Of Your Life.. Follow It.. Happy Morning &amp; Have A Happy Day:)\n",
      "[0.00362722]\n",
      "\n",
      "\n",
      "staff.science.nus.edu.sg/~phyhcmk/teaching/pc1323\n",
      "[0.00399829]\n",
      "\n",
      "\n",
      "Send me yetty's number pls.\n",
      "[0.0056323]\n",
      "\n",
      "\n",
      "Hey so this sat are we going for the intro pilates only? Or the kickboxing too? \n",
      "[0.0045083]\n",
      "\n",
      "\n",
      "I got it before the new year cos yetunde said she wanted to surprise you with it but when i didnt see money i returned it mid january before the  &lt;#&gt; day return period ended.\n",
      "[0.00344214]\n",
      "\n",
      "\n",
      "Hey we can go jazz power yoga hip hop kb and yogasana \n",
      "[0.00491156]\n",
      "\n",
      "\n",
      "Hey mate. Spoke to the mag people. Weâ°ÃÃ·re on.  the is deliver by the end of the month. Deliver on the 24th sept. Talk later. \n",
      "[0.0049886]\n",
      "\n",
      "\n",
      "Morning only i can ok.\n",
      "[0.00361529]\n",
      "\n",
      "\n",
      "Wat time Ã_ finish?\n",
      "[0.00370106]\n",
      "\n",
      "\n",
      "Shant disturb u anymore... Jia you...\n",
      "[0.00513779]\n",
      "\n",
      "\n",
      "4mths half price Orange line rental & latest camera phones 4 FREE. Had your phone 11mths ? Call MobilesDirect free on 08000938767 to update now! or2stoptxt\n",
      "[0.9887775]\n",
      "\n",
      "\n",
      "Your opinion about me? 1. Over 2. Jada 3. Kusruthi 4. Lovable 5. Silent 6. Spl character 7. Not matured 8. Stylish 9. Simple Pls reply..\n",
      "[0.01185414]\n",
      "\n",
      "\n",
      "MOON has come to color your dreams, STARS to make them musical and my SMS to give you warm and Peaceful Sleep. Good Night\n",
      "[0.00951724]\n",
      "\n",
      "\n",
      "You are a winner U have been specially selected 2 receive Ã¥Â£1000 cash or a 4* holiday (flights inc) speak to a live operator 2 claim 0871277810810\n",
      "[0.9880858]\n",
      "\n",
      "\n",
      "Unless it's a situation where YOU GO GURL would be more appropriate\n",
      "[0.00469338]\n",
      "\n",
      "\n",
      "Awww dat is sweet! We can think of something to do he he! Have a nice time tonight ill probably txt u later cos im lonely :( xxx.\n",
      "[0.00365545]\n",
      "\n",
      "\n",
      "Bring tat cd don forget\n",
      "[0.00429679]\n",
      "\n",
      "\n",
      "Single line with a big meaning::::: \\Miss anything 4 ur \\\"Best Life\\\" but\n",
      "[0.00877623]\n",
      "\n",
      "\n",
      "Jay's getting really impatient and belligerent\n",
      "[0.00392463]\n",
      "\n",
      "\n",
      "Lol they were mad at first but then they woke up and gave in.\n",
      "[0.00320328]\n",
      "\n",
      "\n"
     ]
    }
   ],
   "source": [
    "#classification of spam messages\n",
    "for x in range(len(mes)):\n",
    "  print(mes[x])\n",
    "  print(classes[x])\n",
    "  print('\\n')"
   ]
  }
 ],
 "metadata": {
  "kernelspec": {
   "display_name": "Python 3 (ipykernel)",
   "language": "python",
   "name": "python3"
  },
  "language_info": {
   "codemirror_mode": {
    "name": "ipython",
    "version": 3
   },
   "file_extension": ".py",
   "mimetype": "text/x-python",
   "name": "python",
   "nbconvert_exporter": "python",
   "pygments_lexer": "ipython3",
   "version": "3.9.12"
  }
 },
 "nbformat": 4,
 "nbformat_minor": 5
}
